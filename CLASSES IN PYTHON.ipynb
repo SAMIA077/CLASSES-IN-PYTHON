{
 "cells": [
  {
   "cell_type": "code",
   "execution_count": null,
   "id": "f873abac-b426-4549-bf33-ccdd0c6fce0e",
   "metadata": {},
   "outputs": [],
   "source": [
    "#SAMIA MUNEER\n",
    "#FA24-BBD-077\n",
    "#"
   ]
  },
  {
   "cell_type": "code",
   "execution_count": 17,
   "id": "e5fd4d5e-faa8-4408-b50f-20103f74e763",
   "metadata": {},
   "outputs": [
    {
     "name": "stdout",
     "output_type": "stream",
     "text": [
      "Alice, 30, New York\n"
     ]
    }
   ],
   "source": [
    "#question 1\n",
    "class person:\n",
    "    def __init__(self, name, age, city):\n",
    "        self.name = name\n",
    "        self.age = age\n",
    "        self.city = city\n",
    "\n",
    "    def __str__(self):\n",
    "        return f\"{self.name}, {self.age}, {self.city}\"\n",
    "\n",
    "# Create an instance of the class\n",
    "person_instance = person(\"Alice\", 30, \"New York\")\n",
    "\n",
    "# Print the instance\n",
    "print(person_instance)"
   ]
  },
  {
   "cell_type": "code",
   "execution_count": 25,
   "id": "5cf39f58-c96f-4e41-8dcb-82760bc0c7e4",
   "metadata": {},
   "outputs": [
    {
     "name": "stdout",
     "output_type": "stream",
     "text": [
      "audi,A4,2005\n"
     ]
    }
   ],
   "source": [
    "#question 2\n",
    "class car:\n",
    "    def __init__(self,make,model,year):\n",
    "        self.make = make\n",
    "        self.model = model\n",
    "        self.year = year\n",
    "    def __str__(self):\n",
    "        return f\"{self.make},{self.model},{self.year}\"\n",
    "\n",
    "car_instance = car(\"audi\",\"A4\",2005)\n",
    "\n",
    "print(car_instance)"
   ]
  },
  {
   "cell_type": "code",
   "execution_count": 38,
   "id": "16d50c9e-74e4-42a1-83e9-6155296ff73f",
   "metadata": {},
   "outputs": [
    {
     "name": "stdout",
     "output_type": "stream",
     "text": [
      "circle with radius: 7\n",
      "Area: 153.93804002589985\n",
      "Circumference: 43.982297150257104\n"
     ]
    }
   ],
   "source": [
    "#question 3\n",
    "import math\n",
    "class circle:\n",
    "    def __init__(self,radius):\n",
    "        self.radius = radius\n",
    "\n",
    "    def area(self):\n",
    "        return math.pi * (self.radius ** 2)\n",
    "        \n",
    "    def circumference(self):\n",
    "        return 2 * math.pi * self.radius\n",
    "\n",
    "    def __str__(self):\n",
    "       return f\"circle with radius: {self.radius}\"\n",
    "\n",
    "circle = circle(7)\n",
    "print(circle)  \n",
    "print(\"Area:\", circle.area())  \n",
    "print(\"Circumference:\", circle.circumference()) \n",
    "        "
   ]
  },
  {
   "cell_type": "code",
   "execution_count": 55,
   "id": "34f745bd-71ed-4da1-a8b3-70e1f015a690",
   "metadata": {},
   "outputs": [
    {
     "name": "stdout",
     "output_type": "stream",
     "text": [
      "Rectangle with length 5 and width 8\n",
      "Area: 40\n",
      "Perimeter: 26\n"
     ]
    }
   ],
   "source": [
    "#question 4\n",
    "class rectangle:\n",
    "    def __init__(self,length,width):\n",
    "        self.length = length\n",
    "        self.width = width\n",
    "\n",
    "    def area(self):\n",
    "       return self.length * self.width\n",
    "\n",
    "    def perimeter(self):\n",
    "       return 2*(self.length + self.width)\n",
    "\n",
    "    def __str__(self):\n",
    "        return f\"Rectangle with length {self.length} and width {self.width}\"\n",
    "\n",
    "rectangle= rectangle(5,8)\n",
    "print(rectangle)\n",
    "print(\"Area:\", rectangle.area())  \n",
    "print(\"Perimeter:\", rectangle.perimeter())\n",
    "       "
   ]
  },
  {
   "cell_type": "code",
   "execution_count": 76,
   "id": "d2853034-2412-4363-958d-83af824c1752",
   "metadata": {},
   "outputs": [
    {
     "name": "stdout",
     "output_type": "stream",
     "text": [
      "name:Samia\n",
      "rollnumber:77\n",
      "average:76.75\n"
     ]
    }
   ],
   "source": [
    "#question 5\n",
    "class student:\n",
    "    def __init__(self,name,rollnumber,marks):\n",
    "     self.name = name\n",
    "     self.rollnumber = rollnumber\n",
    "     self.marks = marks\n",
    "\n",
    "    def calculate_average(self):\n",
    "         if not self.marks:\n",
    "            return 0\n",
    "         return sum(self.marks) / len(self.marks)\n",
    "\n",
    "student = student(\"Samia\", 77,[50,78,90,89])\n",
    "print(f\"name:{student.name}\")\n",
    "print(f\"rollnumber:{student.rollnumber}\")\n",
    "print(f\"average:{student.calculate_average():.2f}\")\n",
    "     "
   ]
  },
  {
   "cell_type": "code",
   "execution_count": 81,
   "id": "369ab789-2e35-4d6c-b430-7c1f5c336238",
   "metadata": {},
   "outputs": [
    {
     "name": "stdout",
     "output_type": "stream",
     "text": [
      "MOCKING BIRD,HARPER LEE,1960\n"
     ]
    }
   ],
   "source": [
    "#question 6\n",
    "class book:\n",
    "    def __init__(self,title,author,publication_year):\n",
    "        self.title = title\n",
    "        self.author = author\n",
    "        self.publication_year = publication_year\n",
    "\n",
    "    def __str__(self):\n",
    "        return f\"{self.title},{self.author},{self.publication_year}\"\n",
    "       \n",
    "book_instance= book(\"MOCKING BIRD\",\"HARPER LEE\", 1960)\n",
    "\n",
    "print(book_instance)\n",
    "        "
   ]
  },
  {
   "cell_type": "code",
   "execution_count": 95,
   "id": "262dc4e7-5fbb-4645-bfa5-00784540d1ca",
   "metadata": {},
   "outputs": [
    {
     "name": "stdout",
     "output_type": "stream",
     "text": [
      "('Ali', 50000, 'software engineer')\n"
     ]
    }
   ],
   "source": [
    "#question 7\n",
    "class employee:\n",
    "    def __init__(self,name,salary,designation):\n",
    "        self.name = name\n",
    "        self.salary = salary\n",
    "        self.designation = designation\n",
    "\n",
    "    def __str__(self):\n",
    "        return f\" {self.name},{self.salary},{self.designation}\"\n",
    "\n",
    "employee_instance=( \"Ali\", 50000, \"software engineer\")\n",
    "print(employee_instance)"
   ]
  },
  {
   "cell_type": "code",
   "execution_count": 118,
   "id": "fb0a0d71-994a-4849-bdab-5695ee472706",
   "metadata": {},
   "outputs": [
    {
     "name": "stdout",
     "output_type": "stream",
     "text": [
      "Account Holder: Samia Muneer\n",
      "Account Number: 1234567890\n",
      "Balance: $500\n",
      "Deposited $200. New balance: $700\n",
      "Withdrew $150. New balance: $550\n",
      "Insufficient balance.\n"
     ]
    }
   ],
   "source": [
    "#question 8\n",
    "class Bank:\n",
    "    def __init__(self, name, account_number, balance):\n",
    "        self.name = name\n",
    "        self.account_number = account_number\n",
    "        self.balance = balance\n",
    "\n",
    "    def deposit(self, amount):\n",
    "        \"\"\"Deposit money into the account.\"\"\"\n",
    "        if amount > 0:\n",
    "            self.balance += amount\n",
    "            print(f\"Deposited ${amount}. New balance: ${self.balance}\")\n",
    "        else:\n",
    "            print(\"Deposit amount must be positive.\")\n",
    "\n",
    "    def withdraw(self, amount):\n",
    "        \"\"\"Withdraw money from the account.\"\"\"\n",
    "        if amount > 0:\n",
    "            if amount <= self.balance:\n",
    "                self.balance -= amount\n",
    "                print(f\"Withdrew ${amount}. New balance: ${self.balance}\")\n",
    "            else:\n",
    "                print(\"Insufficient balance.\")\n",
    "        else:\n",
    "            print(\"Withdrawal amount must be positive.\")\n",
    "\n",
    "    def __str__(self):\n",
    "        \"\"\"Provide a readable string representation of the bank account.\"\"\"\n",
    "        return f\"Account Holder: {self.name}\\nAccount Number: {self.account_number}\\nBalance: ${self.balance}\"\n",
    "\n",
    "\n",
    "account = Bank(\"Samia Muneer\", \"1234567890\", 500)\n",
    "print(account)  \n",
    "account.deposit(200)  \n",
    "account.withdraw(150)  \n",
    "account.withdraw(600)  "
   ]
  },
  {
   "cell_type": "code",
   "execution_count": null,
   "id": "9860717f-beec-4161-b420-89d43a45c98d",
   "metadata": {},
   "outputs": [],
   "source": []
  }
 ],
 "metadata": {
  "kernelspec": {
   "display_name": "Python 3 (ipykernel)",
   "language": "python",
   "name": "python3"
  },
  "language_info": {
   "codemirror_mode": {
    "name": "ipython",
    "version": 3
   },
   "file_extension": ".py",
   "mimetype": "text/x-python",
   "name": "python",
   "nbconvert_exporter": "python",
   "pygments_lexer": "ipython3",
   "version": "3.12.4"
  }
 },
 "nbformat": 4,
 "nbformat_minor": 5
}
